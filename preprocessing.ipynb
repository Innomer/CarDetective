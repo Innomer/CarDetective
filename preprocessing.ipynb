{
 "cells": [
  {
   "cell_type": "code",
   "execution_count": null,
   "metadata": {},
   "outputs": [],
   "source": [
    "import pandas as pd"
   ]
  },
  {
   "attachments": {},
   "cell_type": "markdown",
   "metadata": {},
   "source": [
    "# Training Dataset Preprocessing\n"
   ]
  },
  {
   "cell_type": "code",
   "execution_count": null,
   "metadata": {},
   "outputs": [],
   "source": [
    "train_dataset=pd.read_csv('./Datasets/train_data.csv')"
   ]
  },
  {
   "cell_type": "code",
   "execution_count": null,
   "metadata": {},
   "outputs": [],
   "source": [
    "train_dataset"
   ]
  },
  {
   "cell_type": "code",
   "execution_count": null,
   "metadata": {},
   "outputs": [],
   "source": [
    "train_dataset.describe()"
   ]
  },
  {
   "cell_type": "code",
   "execution_count": null,
   "metadata": {},
   "outputs": [],
   "source": [
    "nan_cols = train_dataset.isna().any()\n",
    "print(nan_cols[nan_cols == True].index.tolist())\n"
   ]
  },
  {
   "cell_type": "code",
   "execution_count": null,
   "metadata": {},
   "outputs": [],
   "source": [
    "train_dataset.dropna(subset=['New_Price'],inplace=True)\n"
   ]
  },
  {
   "cell_type": "code",
   "execution_count": null,
   "metadata": {},
   "outputs": [],
   "source": [
    "train_dataset"
   ]
  },
  {
   "cell_type": "code",
   "execution_count": null,
   "metadata": {},
   "outputs": [],
   "source": [
    "nan_cols = train_dataset.isna().any()\n",
    "print(nan_cols[nan_cols == True].index.tolist())\n"
   ]
  },
  {
   "cell_type": "code",
   "execution_count": null,
   "metadata": {},
   "outputs": [],
   "source": [
    "train_dataset['Fuel_Type_Encoded']=train_dataset['Fuel_Type'].astype('category').cat.codes\n",
    "train_dataset['Transmission_Encoded']=train_dataset['Transmission'].astype('category').cat.codes"
   ]
  },
  {
   "cell_type": "code",
   "execution_count": null,
   "metadata": {},
   "outputs": [],
   "source": [
    "train_dataset"
   ]
  },
  {
   "cell_type": "code",
   "execution_count": null,
   "metadata": {},
   "outputs": [],
   "source": [
    "print(train_dataset['Owner_Type'].unique())\n",
    "print(train_dataset['Fuel_Type'].unique())\n",
    "print(train_dataset['Transmission'].unique())"
   ]
  },
  {
   "cell_type": "code",
   "execution_count": null,
   "metadata": {},
   "outputs": [],
   "source": [
    "train_dataset['Owner_Type_Encoded']=train_dataset['Owner_Type'].astype('category').cat.codes"
   ]
  },
  {
   "cell_type": "code",
   "execution_count": null,
   "metadata": {},
   "outputs": [],
   "source": [
    "train_dataset"
   ]
  },
  {
   "cell_type": "code",
   "execution_count": null,
   "metadata": {},
   "outputs": [],
   "source": [
    "train_dataset['New_Price'] = train_dataset['New_Price'].str.replace('Lakh', '')\n",
    "train_dataset['New_Price'] = train_dataset['New_Price'].str.replace('Cr', '')\n",
    "train_dataset['Power'] = train_dataset['Power'].str.replace('bhp', '')\n",
    "train_dataset['Engine'] = train_dataset['Engine'].str.replace('CC', '')\n",
    "train_dataset['Mileage'] = train_dataset['Mileage'].str.replace('kmpl', '')\n",
    "train_dataset['Mileage'] = train_dataset['Mileage'].str.replace('km/kg', '')\n",
    "train_dataset['New_Price'] = train_dataset['New_Price'].str.strip()\n",
    "train_dataset['Power'] = train_dataset['Power'].str.strip()\n",
    "train_dataset['Engine'] = train_dataset['Engine'].str.strip()\n",
    "train_dataset['Mileage'] = train_dataset['Mileage'].str.strip()"
   ]
  },
  {
   "cell_type": "code",
   "execution_count": null,
   "metadata": {},
   "outputs": [],
   "source": [
    "train_dataset"
   ]
  },
  {
   "cell_type": "code",
   "execution_count": null,
   "metadata": {},
   "outputs": [],
   "source": [
    "train_dataset.dtypes"
   ]
  },
  {
   "cell_type": "code",
   "execution_count": null,
   "metadata": {},
   "outputs": [],
   "source": [
    "train_dataset['Mileage']=train_dataset['Mileage'].astype(float)\n",
    "train_dataset['Engine']=train_dataset['Engine'].astype(float)\n",
    "train_dataset['Power']=train_dataset['Power'].astype(float)\n",
    "train_dataset['New_Price']=train_dataset['New_Price'].astype(float)"
   ]
  },
  {
   "cell_type": "code",
   "execution_count": null,
   "metadata": {},
   "outputs": [],
   "source": [
    "train_dataset.dtypes"
   ]
  },
  {
   "cell_type": "code",
   "execution_count": null,
   "metadata": {},
   "outputs": [],
   "source": [
    "train_dataset=train_dataset.reset_index(drop=True)"
   ]
  },
  {
   "cell_type": "code",
   "execution_count": null,
   "metadata": {},
   "outputs": [],
   "source": [
    "train_dataset"
   ]
  },
  {
   "cell_type": "code",
   "execution_count": null,
   "metadata": {},
   "outputs": [],
   "source": [
    "def preprocess(df):\n",
    "    # nan_cols = df.isna().any()\n",
    "    # print(\"Empty Cols = \")\n",
    "    # print(nan_cols[nan_cols == True].index.tolist())\n",
    "    df.dropna(inplace=True)\n",
    "    df['Fuel_Type_Encoded']=df['Fuel_Type'].astype('category').cat.codes\n",
    "    df['Transmission_Encoded']=df['Transmission'].astype('category').cat.codes\n",
    "    df['Owner_Type_Encoded']=df['Owner_Type'].astype('category').cat.codes\n",
    "    df['New_Price'] = df['New_Price'].str.replace('Lakh', '')\n",
    "    df['New_Price'] = df['New_Price'].str.replace('Cr', '')\n",
    "    df['Power'] = df['Power'].str.replace('bhp', '')\n",
    "    df['Engine'] = df['Engine'].str.replace('CC', '')\n",
    "    df['Mileage'] = df['Mileage'].str.replace('kmpl', '')\n",
    "    df['Mileage'] = df['Mileage'].str.replace('km/kg', '')\n",
    "    df['New_Price'] = df['New_Price'].str.strip()\n",
    "    df['Power'] = df['Power'].str.strip()\n",
    "    df['Engine'] = df['Engine'].str.strip()\n",
    "    df['Mileage'] = df['Mileage'].str.strip()\n",
    "    df['Mileage']=df['Mileage'].astype(float)\n",
    "    df['Engine']=df['Engine'].astype(float)\n",
    "    df['Power']=df['Power'].astype(float)\n",
    "    df['New_Price']=df['New_Price'].astype(float)\n",
    "    df=df.reset_index(drop=True)\n",
    "    return df"
   ]
  }
 ],
 "metadata": {
  "kernelspec": {
   "display_name": "venv",
   "language": "python",
   "name": "python3"
  },
  "language_info": {
   "codemirror_mode": {
    "name": "ipython",
    "version": 3
   },
   "file_extension": ".py",
   "mimetype": "text/x-python",
   "name": "python",
   "nbconvert_exporter": "python",
   "pygments_lexer": "ipython3",
   "version": "3.9.0"
  },
  "orig_nbformat": 4
 },
 "nbformat": 4,
 "nbformat_minor": 2
}
