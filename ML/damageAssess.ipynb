{
 "cells": [
  {
   "cell_type": "code",
   "execution_count": 346,
   "metadata": {},
   "outputs": [],
   "source": [
    "from keras.preprocessing.image import ImageDataGenerator\n",
    "import keras\n",
    "import tensorflow as tf\n",
    "import numpy as np\n",
    "import cv2\n",
    "import matplotlib.pyplot as plt\n",
    "from keras.applications.vgg16 import VGG16\n",
    "from keras.applications import ResNet50,VGG19\n",
    "from keras.utils import to_categorical\n",
    "from keras.models import Sequential, Model\n",
    "from keras.layers import Dense,Flatten,Dropout,Input\n",
    "from keras.callbacks import ModelCheckpoint\n",
    "import math\n"
   ]
  },
  {
   "cell_type": "code",
   "execution_count": 348,
   "metadata": {},
   "outputs": [
    {
     "name": "stdout",
     "output_type": "stream",
     "text": [
      "Found 1472 images belonging to 2 classes.\n",
      "Found 368 images belonging to 2 classes.\n",
      "{'damaged': 0, 'not': 1}\n"
     ]
    }
   ],
   "source": [
    "data_dir = './Datasets/car/DamagedOrNot/train'\n",
    "\n",
    "datagen = ImageDataGenerator(preprocessing_function=keras.applications.resnet.preprocess_input,\n",
    "                             rescale=1./255, brightness_range=[0.5, 1.5], zoom_range=[0.8, 1.2], validation_split=0.2)\n",
    "# datagen = ImageDataGenerator(\n",
    "#     rescale=1./255, brightness_range=[0.5, 1.5], zoom_range=[0.8, 1.2], validation_split=0.2)\n",
    "\n",
    "train_generator = datagen.flow_from_directory(\n",
    "    data_dir,\n",
    "    target_size=(256, 256),\n",
    "    batch_size=16,\n",
    "    class_mode='categorical',\n",
    "    subset='training'\n",
    ")\n",
    "test_generator = datagen.flow_from_directory(\n",
    "    data_dir,\n",
    "    target_size=(256, 256),\n",
    "    batch_size=16,\n",
    "    class_mode='categorical',\n",
    "    subset='validation'\n",
    ")\n",
    "print(train_generator.class_indices)\n"
   ]
  },
  {
   "cell_type": "code",
   "execution_count": 350,
   "metadata": {},
   "outputs": [],
   "source": [
    "# model = VGG16(include_top=False, weights='imagenet')\n",
    "# nb_train_samples = len(train_generator.filenames)\n",
    "# bottleneck_features_train = model.predict(\n",
    "#     train_generator, int(math.ceil(nb_train_samples / 16)))\n",
    "# np.save('./Models/VGG16_bottleneck_features_train.npy', bottleneck_features_train)\n",
    "# nb_validation_samples = len(test_generator.filenames)\n",
    "\n",
    "# predict_size_validation = int(\n",
    "#     math.ceil(nb_validation_samples / 16))\n",
    "\n",
    "# bottleneck_features_validation = model.predict(\n",
    "#     test_generator, predict_size_validation)\n",
    "\n",
    "# np.save('./Models/VGG16_bottleneck_features_validation.npy',\n",
    "#         bottleneck_features_validation)\n"
   ]
  },
  {
   "cell_type": "code",
   "execution_count": 351,
   "metadata": {},
   "outputs": [],
   "source": [
    "num_classes = len(train_generator.class_indices)\n",
    "\n",
    "input_layer = Input(shape=(256,256,3),name='Input_Layer')\n",
    "model = ResNet50(include_top=False, weights='imagenet',input_tensor=input_layer)\n",
    "flatten=Flatten(data_format='channels_last',name='Flatten')(model.output)\n",
    "L1 = Dense(units=512,activation='relu',name='FC1')(flatten)\n",
    "L2 = Dense(units=256,activation='relu',name='FC2')(L1)\n",
    "dropout1 = Dropout(0.5)(L2)\n",
    "out=Dense(num_classes, activation='sigmoid')(dropout1)\n",
    "model = Model(inputs=input_layer,outputs=out)\n",
    "\n",
    "model.compile(optimizer=keras.optimizers.SGD(learning_rate=0.00001, momentum=0.9),\n",
    "              loss='categorical_crossentropy', metrics=['accuracy'])"
   ]
  },
  {
   "cell_type": "code",
   "execution_count": 352,
   "metadata": {},
   "outputs": [
    {
     "name": "stdout",
     "output_type": "stream",
     "text": [
      "Epoch 1/10\n",
      "92/92 [==============================] - ETA: 0s - loss: 0.9203 - accuracy: 0.6664\n",
      "Epoch 1: val_accuracy improved from -inf to 0.48641, saving model to ./Models/bestModels\\ResNet50\n"
     ]
    },
    {
     "name": "stderr",
     "output_type": "stream",
     "text": [
      "WARNING:absl:Function `_wrapped_model` contains input name(s) Input_Layer with unsupported characters which will be renamed to input_layer in the SavedModel.\n",
      "WARNING:absl:Found untraced functions such as _jit_compiled_convolution_op, _jit_compiled_convolution_op, _jit_compiled_convolution_op, _jit_compiled_convolution_op, _jit_compiled_convolution_op while saving (showing 5 of 53). These functions will not be directly callable after loading.\n"
     ]
    },
    {
     "name": "stdout",
     "output_type": "stream",
     "text": [
      "INFO:tensorflow:Assets written to: ./Models/bestModels\\ResNet50\\assets\n"
     ]
    },
    {
     "name": "stderr",
     "output_type": "stream",
     "text": [
      "INFO:tensorflow:Assets written to: ./Models/bestModels\\ResNet50\\assets\n"
     ]
    },
    {
     "name": "stdout",
     "output_type": "stream",
     "text": [
      "92/92 [==============================] - 43s 419ms/step - loss: 0.9203 - accuracy: 0.6664 - val_loss: 0.7533 - val_accuracy: 0.4864\n",
      "Epoch 2/10\n",
      "92/92 [==============================] - ETA: 0s - loss: 0.5307 - accuracy: 0.7887\n",
      "Epoch 2: val_accuracy improved from 0.48641 to 0.51087, saving model to ./Models/bestModels\\ResNet50\n"
     ]
    },
    {
     "name": "stderr",
     "output_type": "stream",
     "text": [
      "WARNING:absl:Function `_wrapped_model` contains input name(s) Input_Layer with unsupported characters which will be renamed to input_layer in the SavedModel.\n",
      "WARNING:absl:Found untraced functions such as _jit_compiled_convolution_op, _jit_compiled_convolution_op, _jit_compiled_convolution_op, _jit_compiled_convolution_op, _jit_compiled_convolution_op while saving (showing 5 of 53). These functions will not be directly callable after loading.\n"
     ]
    },
    {
     "name": "stdout",
     "output_type": "stream",
     "text": [
      "INFO:tensorflow:Assets written to: ./Models/bestModels\\ResNet50\\assets\n"
     ]
    },
    {
     "name": "stderr",
     "output_type": "stream",
     "text": [
      "INFO:tensorflow:Assets written to: ./Models/bestModels\\ResNet50\\assets\n"
     ]
    },
    {
     "name": "stdout",
     "output_type": "stream",
     "text": [
      "92/92 [==============================] - 38s 414ms/step - loss: 0.5307 - accuracy: 0.7887 - val_loss: 0.7532 - val_accuracy: 0.5109\n",
      "Epoch 3/10\n",
      "92/92 [==============================] - ETA: 0s - loss: 0.4073 - accuracy: 0.8431\n",
      "Epoch 3: val_accuracy did not improve from 0.51087\n",
      "92/92 [==============================] - 23s 241ms/step - loss: 0.4073 - accuracy: 0.8431 - val_loss: 0.8576 - val_accuracy: 0.4837\n",
      "Epoch 4/10\n",
      "92/92 [==============================] - ETA: 0s - loss: 0.3441 - accuracy: 0.8682\n",
      "Epoch 4: val_accuracy did not improve from 0.51087\n",
      "92/92 [==============================] - 23s 243ms/step - loss: 0.3441 - accuracy: 0.8682 - val_loss: 0.8939 - val_accuracy: 0.5027\n",
      "Epoch 5/10\n",
      "92/92 [==============================] - ETA: 0s - loss: 0.3052 - accuracy: 0.8770\n",
      "Epoch 5: val_accuracy improved from 0.51087 to 0.54891, saving model to ./Models/bestModels\\ResNet50\n"
     ]
    },
    {
     "name": "stderr",
     "output_type": "stream",
     "text": [
      "WARNING:absl:Function `_wrapped_model` contains input name(s) Input_Layer with unsupported characters which will be renamed to input_layer in the SavedModel.\n",
      "WARNING:absl:Found untraced functions such as _jit_compiled_convolution_op, _jit_compiled_convolution_op, _jit_compiled_convolution_op, _jit_compiled_convolution_op, _jit_compiled_convolution_op while saving (showing 5 of 53). These functions will not be directly callable after loading.\n"
     ]
    },
    {
     "name": "stdout",
     "output_type": "stream",
     "text": [
      "INFO:tensorflow:Assets written to: ./Models/bestModels\\ResNet50\\assets\n"
     ]
    },
    {
     "name": "stderr",
     "output_type": "stream",
     "text": [
      "INFO:tensorflow:Assets written to: ./Models/bestModels\\ResNet50\\assets\n"
     ]
    },
    {
     "name": "stdout",
     "output_type": "stream",
     "text": [
      "92/92 [==============================] - 38s 414ms/step - loss: 0.3052 - accuracy: 0.8770 - val_loss: 1.0196 - val_accuracy: 0.5489\n",
      "Epoch 6/10\n",
      "92/92 [==============================] - ETA: 0s - loss: 0.2625 - accuracy: 0.8886\n",
      "Epoch 6: val_accuracy improved from 0.54891 to 0.67120, saving model to ./Models/bestModels\\ResNet50\n"
     ]
    },
    {
     "name": "stderr",
     "output_type": "stream",
     "text": [
      "WARNING:absl:Function `_wrapped_model` contains input name(s) Input_Layer with unsupported characters which will be renamed to input_layer in the SavedModel.\n",
      "WARNING:absl:Found untraced functions such as _jit_compiled_convolution_op, _jit_compiled_convolution_op, _jit_compiled_convolution_op, _jit_compiled_convolution_op, _jit_compiled_convolution_op while saving (showing 5 of 53). These functions will not be directly callable after loading.\n"
     ]
    },
    {
     "name": "stdout",
     "output_type": "stream",
     "text": [
      "INFO:tensorflow:Assets written to: ./Models/bestModels\\ResNet50\\assets\n"
     ]
    },
    {
     "name": "stderr",
     "output_type": "stream",
     "text": [
      "INFO:tensorflow:Assets written to: ./Models/bestModels\\ResNet50\\assets\n"
     ]
    },
    {
     "name": "stdout",
     "output_type": "stream",
     "text": [
      "92/92 [==============================] - 39s 424ms/step - loss: 0.2625 - accuracy: 0.8886 - val_loss: 0.7102 - val_accuracy: 0.6712\n",
      "Epoch 7/10\n",
      "92/92 [==============================] - ETA: 0s - loss: 0.2369 - accuracy: 0.9049\n",
      "Epoch 7: val_accuracy improved from 0.67120 to 0.73913, saving model to ./Models/bestModels\\ResNet50\n"
     ]
    },
    {
     "name": "stderr",
     "output_type": "stream",
     "text": [
      "WARNING:absl:Function `_wrapped_model` contains input name(s) Input_Layer with unsupported characters which will be renamed to input_layer in the SavedModel.\n",
      "WARNING:absl:Found untraced functions such as _jit_compiled_convolution_op, _jit_compiled_convolution_op, _jit_compiled_convolution_op, _jit_compiled_convolution_op, _jit_compiled_convolution_op while saving (showing 5 of 53). These functions will not be directly callable after loading.\n"
     ]
    },
    {
     "name": "stdout",
     "output_type": "stream",
     "text": [
      "INFO:tensorflow:Assets written to: ./Models/bestModels\\ResNet50\\assets\n"
     ]
    },
    {
     "name": "stderr",
     "output_type": "stream",
     "text": [
      "INFO:tensorflow:Assets written to: ./Models/bestModels\\ResNet50\\assets\n"
     ]
    },
    {
     "name": "stdout",
     "output_type": "stream",
     "text": [
      "92/92 [==============================] - 39s 419ms/step - loss: 0.2369 - accuracy: 0.9049 - val_loss: 0.6078 - val_accuracy: 0.7391\n",
      "Epoch 8/10\n",
      "92/92 [==============================] - ETA: 0s - loss: 0.1954 - accuracy: 0.9239\n",
      "Epoch 8: val_accuracy improved from 0.73913 to 0.84783, saving model to ./Models/bestModels\\ResNet50\n"
     ]
    },
    {
     "name": "stderr",
     "output_type": "stream",
     "text": [
      "WARNING:absl:Function `_wrapped_model` contains input name(s) Input_Layer with unsupported characters which will be renamed to input_layer in the SavedModel.\n",
      "WARNING:absl:Found untraced functions such as _jit_compiled_convolution_op, _jit_compiled_convolution_op, _jit_compiled_convolution_op, _jit_compiled_convolution_op, _jit_compiled_convolution_op while saving (showing 5 of 53). These functions will not be directly callable after loading.\n"
     ]
    },
    {
     "name": "stdout",
     "output_type": "stream",
     "text": [
      "INFO:tensorflow:Assets written to: ./Models/bestModels\\ResNet50\\assets\n"
     ]
    },
    {
     "name": "stderr",
     "output_type": "stream",
     "text": [
      "INFO:tensorflow:Assets written to: ./Models/bestModels\\ResNet50\\assets\n"
     ]
    },
    {
     "name": "stdout",
     "output_type": "stream",
     "text": [
      "92/92 [==============================] - 39s 419ms/step - loss: 0.1954 - accuracy: 0.9239 - val_loss: 0.3091 - val_accuracy: 0.8478\n",
      "Epoch 9/10\n",
      "92/92 [==============================] - ETA: 0s - loss: 0.1976 - accuracy: 0.9151\n",
      "Epoch 9: val_accuracy improved from 0.84783 to 0.88859, saving model to ./Models/bestModels\\ResNet50\n"
     ]
    },
    {
     "name": "stderr",
     "output_type": "stream",
     "text": [
      "WARNING:absl:Function `_wrapped_model` contains input name(s) Input_Layer with unsupported characters which will be renamed to input_layer in the SavedModel.\n",
      "WARNING:absl:Found untraced functions such as _jit_compiled_convolution_op, _jit_compiled_convolution_op, _jit_compiled_convolution_op, _jit_compiled_convolution_op, _jit_compiled_convolution_op while saving (showing 5 of 53). These functions will not be directly callable after loading.\n"
     ]
    },
    {
     "name": "stdout",
     "output_type": "stream",
     "text": [
      "INFO:tensorflow:Assets written to: ./Models/bestModels\\ResNet50\\assets\n"
     ]
    },
    {
     "name": "stderr",
     "output_type": "stream",
     "text": [
      "INFO:tensorflow:Assets written to: ./Models/bestModels\\ResNet50\\assets\n"
     ]
    },
    {
     "name": "stdout",
     "output_type": "stream",
     "text": [
      "92/92 [==============================] - 39s 423ms/step - loss: 0.1976 - accuracy: 0.9151 - val_loss: 0.2612 - val_accuracy: 0.8886\n",
      "Epoch 10/10\n",
      "92/92 [==============================] - ETA: 0s - loss: 0.1984 - accuracy: 0.9151\n",
      "Epoch 10: val_accuracy improved from 0.88859 to 0.91033, saving model to ./Models/bestModels\\ResNet50\n"
     ]
    },
    {
     "name": "stderr",
     "output_type": "stream",
     "text": [
      "WARNING:absl:Function `_wrapped_model` contains input name(s) Input_Layer with unsupported characters which will be renamed to input_layer in the SavedModel.\n",
      "WARNING:absl:Found untraced functions such as _jit_compiled_convolution_op, _jit_compiled_convolution_op, _jit_compiled_convolution_op, _jit_compiled_convolution_op, _jit_compiled_convolution_op while saving (showing 5 of 53). These functions will not be directly callable after loading.\n"
     ]
    },
    {
     "name": "stdout",
     "output_type": "stream",
     "text": [
      "INFO:tensorflow:Assets written to: ./Models/bestModels\\ResNet50\\assets\n"
     ]
    },
    {
     "name": "stderr",
     "output_type": "stream",
     "text": [
      "INFO:tensorflow:Assets written to: ./Models/bestModels\\ResNet50\\assets\n"
     ]
    },
    {
     "name": "stdout",
     "output_type": "stream",
     "text": [
      "92/92 [==============================] - 39s 423ms/step - loss: 0.1984 - accuracy: 0.9151 - val_loss: 0.2067 - val_accuracy: 0.9103\n"
     ]
    }
   ],
   "source": [
    "checkpoint = ModelCheckpoint(filepath='./Models/bestModels/ResNet50', monitor='val_accuracy',  verbose=1, save_best_only=True, mode='auto')\n",
    "history = model.fit(train_generator,\n",
    "                    epochs=10,\n",
    "                    batch_size=16,\n",
    "                    validation_data=test_generator,callbacks=[checkpoint])"
   ]
  },
  {
   "cell_type": "code",
   "execution_count": 353,
   "metadata": {},
   "outputs": [
    {
     "data": {
      "image/png": "[encoded data removed]",
      "text/plain": [
       "<Figure size 800x800 with 2 Axes>"
      ]
     },
     "metadata": {},
     "output_type": "display_data"
    }
   ],
   "source": [
    "acc = history.history['accuracy']\n",
    "val_acc = history.history['val_accuracy']\n",
    "\n",
    "loss = history.history['loss']\n",
    "val_loss = history.history['val_loss']\n",
    "\n",
    "epochs_range = range(len(history.epoch))\n",
    "\n",
    "plt.figure(figsize=(8, 8))\n",
    "plt.subplot(1, 2, 1)\n",
    "plt.plot(epochs_range, acc, label='Training Accuracy')\n",
    "plt.plot(epochs_range, val_acc, label='Validation Accuracy')\n",
    "plt.legend(loc='upper right')\n",
    "plt.title('Training and Validation Accuracy')\n",
    "\n",
    "plt.subplot(1, 2, 2)\n",
    "plt.plot(epochs_range, loss, label='Training Loss')\n",
    "plt.plot(epochs_range, val_loss, label='Validation Loss')\n",
    "plt.legend(loc='upper right')\n",
    "plt.title('Training and Validation Loss')\n",
    "plt.show()"
   ]
  }
 ],
 "metadata": {
  "kernelspec": {
   "display_name": "venv",
   "language": "python",
   "name": "python3"
  },
  "language_info": {
   "codemirror_mode": {
    "name": "ipython",
    "version": 3
   },
   "file_extension": ".py",
   "mimetype": "text/x-python",
   "name": "python",
   "nbconvert_exporter": "python",
   "pygments_lexer": "ipython3",
   "version": "3.9.0"
  },
  "orig_nbformat": 4
 },
 "nbformat": 4,
 "nbformat_minor": 2
}
